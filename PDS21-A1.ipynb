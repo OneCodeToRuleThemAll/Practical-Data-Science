{
 "cells": [
  {
   "cell_type": "markdown",
   "metadata": {},
   "source": [
    "## 1st Assignment\n",
    "You are provided with a set of Excel files (folder HW2). Each file comprises annotations of verses of an Iliad book, which have been produced by multiple annotators. Annotators belong to two groups. One group annotated the sentiment of the reader (themselves) and the other predicted the sentiment that the author (Homer) wanted to provoke to the reader. We want to study the inter-annotator agreement per group and shed light on the following two questions:\n",
    "* *Do readers feel the same emotions when reading the same texts?*, and \n",
    "* *Do readers agree when predicting the emotions that the author wanted to provoke?*"
   ]
  },
  {
   "cell_type": "markdown",
   "metadata": {},
   "source": [
    "1) Parse the filenames (hint: use `os`) and add them to a list named `filenames`. The list should only contain valid Excel filenames:\n",
    "```\n",
    ">>> filenames\n",
    ">>> ['f3662009.xlsx','f3662013.xlsx', 'f3662003.xlsx', 'f3662015.xlsx', 'f3662023.xlsx', 'f3662018.xlsx', 'f3662014.xlsx', 'f3662001.xlsx', 'f3662021.xlsx', 'f3662020.xlsx', 'f3662016.xlsx', 'f3662011.xlsx', 'f3662006.xlsx', 'f3662010.xlsx']\n",
    "```"
   ]
  },
  {
   "cell_type": "markdown",
   "metadata": {},
   "source": [
    "2) Put the annotations of all the annotators into the same dataframe named `coders`. Set the index to `Id_verse`. Use boolean indexing to detect rows that have an empty value in the `Text` column (use `drop` and `loc`/`iloc`) and to drop them. Drop all the columns (not the index, of course) except from `Text`, `Subjectivity`, `Sentiment`, `Primary Emotion`. Add a column with the ID of the annotator, which is the part of the filename with the integers (e.g., 3662020 for f3662020.xlsx) and one with the respective group that the annotator belongs to: when the last integer is less than five, then the annotator belongs to G2 (predicting the sentiment that the author wanted to provoke), otherwise G1. The command coders.column should result the following output:\n",
    "\n",
    "```\n",
    ">>> coders.columns\n",
    ">>> Index(['Text', 'Subjectivity', 'Sentiment', 'Primary Emotion', 'ID', 'Group'], dtype='object')\n",
    "```\n",
    "The sentiment column was meant to comprise `+` for positive, `-` for negative, `0` for neutral, and `m` for mixed positive and negative. However, the annotators made mistakes. Normalise this column, so that it comprises only -1 (negative), 0 (neutral or nans), and 1 (positive or mixed). Feel free to make your own assumptions regarding the normalisation, if they can be reasonably argued for (e.g., the mixed polarity could be mapped to -1 as well).  "
   ]
  },
  {
   "cell_type": "markdown",
   "metadata": {},
   "source": [
    "3) Count and report the missing values per column. Then, fill the missing values of the columns Subjectivity and Sentiment with an appropriate value, based on your judgement. Check and show that they have been successfully addressed."
   ]
  },
  {
   "cell_type": "markdown",
   "metadata": {},
   "source": [
    "4) Now we want to separate the two groups. We will do that with a hierarchical index. First turn the values of the ID column into strings. Then, create a hierarchical index of 3 levels, with `Group` being the first, `ID` the second, and `Id_verse` the third in row.\n",
    "```\n",
    ">>> coders.index.names\n",
    ">>> ['Group', 'ID', 'Id_verse']\n",
    "```"
   ]
  },
  {
   "cell_type": "markdown",
   "metadata": {},
   "source": [
    "5) Now we want to measure the inter-annotator agreement per group. Use your hierarchically indexed dataframe to compute the mean pairwise inter-annotator agreement for Subjectivity and Sentiment per group (use `loc` to get the respective values per annotator). Compare the two values. "
   ]
  },
  {
   "cell_type": "markdown",
   "metadata": {},
   "source": [
    "# Bonus\n",
    "* Annotate verses from the 1st book of Iliad (to serve as input for the next lectures and assignment) and gain one *extra* grade. \n",
    "* Guidelines: Open the given Excel file (IB1.xlsx) and for each verse annotate the polarity of the sentiment, the exact emotions and the hero who is speaking in the verse. A second tab exists that holds the polarities, emotions and heroes. If you find a hero speaking who is not listed or an emotion that should be added, please let me know.  "
   ]
  },
  {
   "cell_type": "code",
   "execution_count": 43,
   "metadata": {},
   "outputs": [],
   "source": [
    "import os\n",
    "import sys\n",
    "import pandas as pd\n",
    "import numpy as np\n",
    "import warnings\n",
    "warnings.filterwarnings(\"ignore\") \n",
    "from sklearn.metrics import cohen_kappa_score as kappa\n",
    "#os.chdir()<----Insert your path here"
   ]
  },
  {
   "cell_type": "markdown",
   "metadata": {},
   "source": [
    "**1)**"
   ]
  },
  {
   "cell_type": "code",
   "execution_count": 44,
   "metadata": {},
   "outputs": [
    {
     "data": {
      "text/plain": [
       "['f3662001.xlsx',\n",
       " 'f3662003.xlsx',\n",
       " 'f3662006.xlsx',\n",
       " 'f3662009.xlsx',\n",
       " 'f3662010.xlsx',\n",
       " 'f3662011.xlsx',\n",
       " 'f3662013.xlsx',\n",
       " 'f3662014.xlsx',\n",
       " 'f3662015.xlsx',\n",
       " 'f3662016.xlsx',\n",
       " 'f3662018.xlsx',\n",
       " 'f3662020.xlsx',\n",
       " 'f3662021.xlsx',\n",
       " 'f3662023.xlsx']"
      ]
     },
     "execution_count": 44,
     "metadata": {},
     "output_type": "execute_result"
    }
   ],
   "source": [
    "#filenames=os.listdir()<----Insert your path here\n",
    "for f in filenames:\n",
    "    if f==\".DS_Store\":\n",
    "        filenames.remove(f)\n",
    "filenames"
   ]
  },
  {
   "cell_type": "markdown",
   "metadata": {},
   "source": [
    "**2)**"
   ]
  },
  {
   "cell_type": "code",
   "execution_count": 45,
   "metadata": {},
   "outputs": [],
   "source": [
    "coders=pd.DataFrame()\n",
    "for i in filenames:\n",
    "    dfs=pd.read_excel(i)\n",
    "    coders=pd.concat([coders,dfs])"
   ]
  },
  {
   "cell_type": "code",
   "execution_count": 46,
   "metadata": {},
   "outputs": [],
   "source": [
    "coders=coders.set_index(\"Id_verse\")"
   ]
  },
  {
   "cell_type": "code",
   "execution_count": 47,
   "metadata": {},
   "outputs": [],
   "source": [
    "coders=coders.reset_index()\n",
    "coders=coders.drop(coders.loc[coders.Text.isna()].index)\n",
    "coders=coders.set_index(\"Id_verse\")"
   ]
  },
  {
   "cell_type": "code",
   "execution_count": 48,
   "metadata": {},
   "outputs": [
    {
     "data": {
      "text/html": [
       "<div>\n",
       "<style scoped>\n",
       "    .dataframe tbody tr th:only-of-type {\n",
       "        vertical-align: middle;\n",
       "    }\n",
       "\n",
       "    .dataframe tbody tr th {\n",
       "        vertical-align: top;\n",
       "    }\n",
       "\n",
       "    .dataframe thead th {\n",
       "        text-align: right;\n",
       "    }\n",
       "</style>\n",
       "<table border=\"1\" class=\"dataframe\">\n",
       "  <thead>\n",
       "    <tr style=\"text-align: right;\">\n",
       "      <th></th>\n",
       "      <th>Text</th>\n",
       "      <th>Subjectivity</th>\n",
       "      <th>Sentiment</th>\n",
       "      <th>Primary Emotion</th>\n",
       "      <th>Seocondary Emotions</th>\n",
       "      <th>Emotion Primary</th>\n",
       "      <th>Emotion Secondary</th>\n",
       "      <th>Secondary Emotion</th>\n",
       "    </tr>\n",
       "    <tr>\n",
       "      <th>Id_verse</th>\n",
       "      <th></th>\n",
       "      <th></th>\n",
       "      <th></th>\n",
       "      <th></th>\n",
       "      <th></th>\n",
       "      <th></th>\n",
       "      <th></th>\n",
       "      <th></th>\n",
       "    </tr>\n",
       "  </thead>\n",
       "  <tbody>\n",
       "    <tr>\n",
       "      <th>Z_376</th>\n",
       "      <td>Ελάτε, σεις οι σκλάβες, πέστε μου την πάσα αλή...</td>\n",
       "      <td>0.0</td>\n",
       "      <td>0</td>\n",
       "      <td>NaN</td>\n",
       "      <td>NaN</td>\n",
       "      <td>NaN</td>\n",
       "      <td>NaN</td>\n",
       "      <td>NaN</td>\n",
       "    </tr>\n",
       "    <tr>\n",
       "      <th>Z_377</th>\n",
       "      <td>Που πηγεν η Αντρομάχη φεύγοντας η χιονοβραχιον...</td>\n",
       "      <td>1.0</td>\n",
       "      <td>-</td>\n",
       "      <td>suspense</td>\n",
       "      <td>NaN</td>\n",
       "      <td>NaN</td>\n",
       "      <td>NaN</td>\n",
       "      <td>NaN</td>\n",
       "    </tr>\n",
       "    <tr>\n",
       "      <th>Z_378</th>\n",
       "      <td>Μήνα σε κάποια συννυφάδα της, μη σε κουνιάδα ε...</td>\n",
       "      <td>0.0</td>\n",
       "      <td>0</td>\n",
       "      <td>NaN</td>\n",
       "      <td>NaN</td>\n",
       "      <td>NaN</td>\n",
       "      <td>NaN</td>\n",
       "      <td>NaN</td>\n",
       "    </tr>\n",
       "    <tr>\n",
       "      <th>Z_379_380</th>\n",
       "      <td>για ανέβη με τις καλοπλέξουδες αρχόντισσες, πο...</td>\n",
       "      <td>0.0</td>\n",
       "      <td>0</td>\n",
       "      <td>NaN</td>\n",
       "      <td>NaN</td>\n",
       "      <td>NaN</td>\n",
       "      <td>NaN</td>\n",
       "      <td>NaN</td>\n",
       "    </tr>\n",
       "    <tr>\n",
       "      <th>Z_382_387</th>\n",
       "      <td>Έχτορα, τώρα αφού με πρόσταξες να πω την πάσα ...</td>\n",
       "      <td>0.0</td>\n",
       "      <td>0</td>\n",
       "      <td>NaN</td>\n",
       "      <td>NaN</td>\n",
       "      <td>NaN</td>\n",
       "      <td>NaN</td>\n",
       "      <td>NaN</td>\n",
       "    </tr>\n",
       "    <tr>\n",
       "      <th>...</th>\n",
       "      <td>...</td>\n",
       "      <td>...</td>\n",
       "      <td>...</td>\n",
       "      <td>...</td>\n",
       "      <td>...</td>\n",
       "      <td>...</td>\n",
       "      <td>...</td>\n",
       "      <td>...</td>\n",
       "    </tr>\n",
       "    <tr>\n",
       "      <th>Ω_664_667</th>\n",
       "      <td>Μέρες εννιά μες στο παλάτι μου θα τον μοιρολογ...</td>\n",
       "      <td>1.0</td>\n",
       "      <td>-</td>\n",
       "      <td>πένθος</td>\n",
       "      <td>NaN</td>\n",
       "      <td>NaN</td>\n",
       "      <td>NaN</td>\n",
       "      <td>NaN</td>\n",
       "    </tr>\n",
       "    <tr>\n",
       "      <th>Ω_669_670</th>\n",
       "      <td>Και τούτα θα σου γίνουν, γέροντα, καθώς τα θέλ...</td>\n",
       "      <td>1.0</td>\n",
       "      <td>+</td>\n",
       "      <td>ευσπλαχνία</td>\n",
       "      <td>έλεος</td>\n",
       "      <td>NaN</td>\n",
       "      <td>NaN</td>\n",
       "      <td>NaN</td>\n",
       "    </tr>\n",
       "    <tr>\n",
       "      <th>NaN</th>\n",
       "      <td>Mνησικακία: η προσθήκη του συγκεκριμένου συναι...</td>\n",
       "      <td>NaN</td>\n",
       "      <td>NaN</td>\n",
       "      <td>NaN</td>\n",
       "      <td>NaN</td>\n",
       "      <td>NaN</td>\n",
       "      <td>NaN</td>\n",
       "      <td>NaN</td>\n",
       "    </tr>\n",
       "    <tr>\n",
       "      <th>NaN</th>\n",
       "      <td>Νοσταλγία για την πατρίδα/ το σπίτι/ τους δικο...</td>\n",
       "      <td>NaN</td>\n",
       "      <td>NaN</td>\n",
       "      <td>NaN</td>\n",
       "      <td>NaN</td>\n",
       "      <td>NaN</td>\n",
       "      <td>NaN</td>\n",
       "      <td>NaN</td>\n",
       "    </tr>\n",
       "    <tr>\n",
       "      <th>NaN</th>\n",
       "      <td>Ενσυναίσθηση= έχει καταχωρηθεί στο αρχείο ως e...</td>\n",
       "      <td>NaN</td>\n",
       "      <td>NaN</td>\n",
       "      <td>NaN</td>\n",
       "      <td>NaN</td>\n",
       "      <td>NaN</td>\n",
       "      <td>NaN</td>\n",
       "      <td>NaN</td>\n",
       "    </tr>\n",
       "  </tbody>\n",
       "</table>\n",
       "<p>1347 rows × 8 columns</p>\n",
       "</div>"
      ],
      "text/plain": [
       "                                                        Text  Subjectivity  \\\n",
       "Id_verse                                                                     \n",
       "Z_376      Ελάτε, σεις οι σκλάβες, πέστε μου την πάσα αλή...           0.0   \n",
       "Z_377      Που πηγεν η Αντρομάχη φεύγοντας η χιονοβραχιον...           1.0   \n",
       "Z_378      Μήνα σε κάποια συννυφάδα της, μη σε κουνιάδα ε...           0.0   \n",
       "Z_379_380  για ανέβη με τις καλοπλέξουδες αρχόντισσες, πο...           0.0   \n",
       "Z_382_387  Έχτορα, τώρα αφού με πρόσταξες να πω την πάσα ...           0.0   \n",
       "...                                                      ...           ...   \n",
       "Ω_664_667  Μέρες εννιά μες στο παλάτι μου θα τον μοιρολογ...           1.0   \n",
       "Ω_669_670  Και τούτα θα σου γίνουν, γέροντα, καθώς τα θέλ...           1.0   \n",
       "NaN        Mνησικακία: η προσθήκη του συγκεκριμένου συναι...           NaN   \n",
       "NaN        Νοσταλγία για την πατρίδα/ το σπίτι/ τους δικο...           NaN   \n",
       "NaN        Ενσυναίσθηση= έχει καταχωρηθεί στο αρχείο ως e...           NaN   \n",
       "\n",
       "                  Sentiment Primary Emotion Seocondary Emotions  \\\n",
       "Id_verse                                                          \n",
       "Z_376                     0             NaN                 NaN   \n",
       "Z_377                     -        suspense                 NaN   \n",
       "Z_378                     0             NaN                 NaN   \n",
       "Z_379_380                 0             NaN                 NaN   \n",
       "Z_382_387                 0             NaN                 NaN   \n",
       "...                     ...             ...                 ...   \n",
       "Ω_664_667                 -          πένθος                 NaN   \n",
       "Ω_669_670                 +      ευσπλαχνία               έλεος   \n",
       "NaN                     NaN             NaN                 NaN   \n",
       "NaN                     NaN             NaN                 NaN   \n",
       "NaN                     NaN             NaN                 NaN   \n",
       "\n",
       "          Emotion Primary Emotion Secondary Secondary Emotion  \n",
       "Id_verse                                                       \n",
       "Z_376                 NaN               NaN               NaN  \n",
       "Z_377                 NaN               NaN               NaN  \n",
       "Z_378                 NaN               NaN               NaN  \n",
       "Z_379_380             NaN               NaN               NaN  \n",
       "Z_382_387             NaN               NaN               NaN  \n",
       "...                   ...               ...               ...  \n",
       "Ω_664_667             NaN               NaN               NaN  \n",
       "Ω_669_670             NaN               NaN               NaN  \n",
       "NaN                   NaN               NaN               NaN  \n",
       "NaN                   NaN               NaN               NaN  \n",
       "NaN                   NaN               NaN               NaN  \n",
       "\n",
       "[1347 rows x 8 columns]"
      ]
     },
     "execution_count": 48,
     "metadata": {},
     "output_type": "execute_result"
    }
   ],
   "source": [
    "coders"
   ]
  },
  {
   "cell_type": "code",
   "execution_count": 49,
   "metadata": {},
   "outputs": [],
   "source": [
    "coders=coders.drop([\"Seocondary Emotions\",\"Emotion Primary\",\"Emotion Secondary\",\"Secondary Emotion\"],axis=1)"
   ]
  },
  {
   "cell_type": "code",
   "execution_count": 50,
   "metadata": {},
   "outputs": [],
   "source": [
    "coders[\"ID\"]=0\n",
    "coders[\"Group\"]=0"
   ]
  },
  {
   "cell_type": "code",
   "execution_count": 51,
   "metadata": {},
   "outputs": [],
   "source": [
    "i=0\n",
    "j=0\n",
    "for j in range(0,len(filenames)):\n",
    "    coders[\"ID\"][i:i+96]=filenames[j][1:8]\n",
    "    coders[\"Group\"][i:i+96]=\"G2\" if (int(filenames[j][1:8][-1])<5) else \"G1\"\n",
    "    i+=96\n",
    "    j+=1\n",
    "coders[\"ID\"][-3:]=3662023\n",
    "coders[\"Group\"][-3:]=\"G2\"  "
   ]
  },
  {
   "cell_type": "code",
   "execution_count": 52,
   "metadata": {},
   "outputs": [],
   "source": [
    "coders=coders[:-3]"
   ]
  },
  {
   "cell_type": "code",
   "execution_count": 53,
   "metadata": {},
   "outputs": [
    {
     "data": {
      "text/plain": [
       "Index(['Text', 'Subjectivity', 'Sentiment', 'Primary Emotion', 'ID', 'Group'], dtype='object')"
      ]
     },
     "execution_count": 53,
     "metadata": {},
     "output_type": "execute_result"
    }
   ],
   "source": [
    "coders.columns"
   ]
  },
  {
   "cell_type": "code",
   "execution_count": 54,
   "metadata": {},
   "outputs": [],
   "source": [
    "coders.Sentiment = coders.Sentiment.str.replace(' ', '')\n",
    "coders.Sentiment = coders.Sentiment.fillna(0)\n",
    "coders.Sentiment = coders.Sentiment.replace(to_replace=\"+\",value=1)\n",
    "coders.Sentiment = coders.Sentiment.replace(to_replace=\"-\",value=-1)\n",
    "coders.Sentiment = coders.Sentiment.replace(to_replace=\"m\",value=0)"
   ]
  },
  {
   "cell_type": "markdown",
   "metadata": {},
   "source": [
    "**3)**"
   ]
  },
  {
   "cell_type": "code",
   "execution_count": 55,
   "metadata": {},
   "outputs": [
    {
     "data": {
      "text/plain": [
       "Text                 0\n",
       "Subjectivity         8\n",
       "Sentiment            0\n",
       "Primary Emotion    412\n",
       "ID                   0\n",
       "Group                0\n",
       "dtype: int64"
      ]
     },
     "execution_count": 55,
     "metadata": {},
     "output_type": "execute_result"
    }
   ],
   "source": [
    "coders.isna().sum(axis=0)"
   ]
  },
  {
   "cell_type": "code",
   "execution_count": 56,
   "metadata": {},
   "outputs": [
    {
     "data": {
      "text/plain": [
       "Text                 0\n",
       "Subjectivity         0\n",
       "Sentiment            0\n",
       "Primary Emotion    412\n",
       "ID                   0\n",
       "Group                0\n",
       "dtype: int64"
      ]
     },
     "execution_count": 56,
     "metadata": {},
     "output_type": "execute_result"
    }
   ],
   "source": [
    "coders.Subjectivity=coders.Subjectivity.fillna(1)\n",
    "coders.isna().sum(axis=0)"
   ]
  },
  {
   "cell_type": "markdown",
   "metadata": {},
   "source": [
    "**4)**"
   ]
  },
  {
   "cell_type": "code",
   "execution_count": 57,
   "metadata": {},
   "outputs": [],
   "source": [
    "coders.ID=coders.ID.apply(str)"
   ]
  },
  {
   "cell_type": "code",
   "execution_count": 58,
   "metadata": {},
   "outputs": [],
   "source": [
    "coders=coders.reset_index()"
   ]
  },
  {
   "cell_type": "code",
   "execution_count": 59,
   "metadata": {},
   "outputs": [],
   "source": [
    "coders=coders.set_index([\"Group\",\"ID\",\"Id_verse\"])\n",
    "coders=coders.sort_index(level=[\"Group\",\"ID\",\"Id_verse\"])"
   ]
  },
  {
   "cell_type": "code",
   "execution_count": 60,
   "metadata": {},
   "outputs": [
    {
     "data": {
      "text/plain": [
       "FrozenList(['Group', 'ID', 'Id_verse'])"
      ]
     },
     "execution_count": 60,
     "metadata": {},
     "output_type": "execute_result"
    }
   ],
   "source": [
    "coders.index.names"
   ]
  },
  {
   "cell_type": "markdown",
   "metadata": {},
   "source": [
    "**5)**"
   ]
  },
  {
   "cell_type": "code",
   "execution_count": 61,
   "metadata": {},
   "outputs": [
    {
     "data": {
      "text/plain": [
       "array([0, -1, 1, '_'], dtype=object)"
      ]
     },
     "execution_count": 61,
     "metadata": {},
     "output_type": "execute_result"
    }
   ],
   "source": [
    "#Normalizing Sentiment for _ = 0\n",
    "coders.Sentiment.unique()"
   ]
  },
  {
   "cell_type": "code",
   "execution_count": 62,
   "metadata": {},
   "outputs": [],
   "source": [
    "coders.Sentiment = coders.Sentiment.replace(to_replace=\"_\",value=0)"
   ]
  },
  {
   "cell_type": "code",
   "execution_count": 63,
   "metadata": {},
   "outputs": [
    {
     "data": {
      "text/plain": [
       "Index(['3662006', '3662009', '3662015', '3662016', '3662018'], dtype='object', name='ID')"
      ]
     },
     "execution_count": 63,
     "metadata": {},
     "output_type": "execute_result"
    }
   ],
   "source": [
    "#Get IDs for G1\n",
    "coders.loc[\"G1\"].index.get_level_values(0).unique()"
   ]
  },
  {
   "cell_type": "code",
   "execution_count": 64,
   "metadata": {},
   "outputs": [],
   "source": [
    "#Assigning indexes to x to be used below\n",
    "x=coders.loc[\"G1\"].index.get_level_values(0).unique()"
   ]
  },
  {
   "cell_type": "code",
   "execution_count": 65,
   "metadata": {},
   "outputs": [
    {
     "name": "stdout",
     "output_type": "stream",
     "text": [
      "Kappa for G1 Subjectivity is 0.08146248468137546\n"
     ]
    }
   ],
   "source": [
    "KappaG1Sub=0\n",
    "n=0\n",
    "for j in range(0,len(x)):\n",
    "    for i in range(j+1,len(x)):\n",
    "        kappa1=kappa(coders.loc[\"G1\"].loc[x[j]][\"Subjectivity\"],coders.loc[\"G1\"].loc[x[i]][\"Subjectivity\"])\n",
    "        KappaG1Sub=KappaG1Sub+kappa1\n",
    "        n=n+1\n",
    "    i=0\n",
    "KAPPAG1SUB=KappaG1Sub/10\n",
    "print(\"Kappa for G1 Subjectivity is\",KAPPAG1SUB)"
   ]
  },
  {
   "cell_type": "code",
   "execution_count": 66,
   "metadata": {},
   "outputs": [
    {
     "name": "stdout",
     "output_type": "stream",
     "text": [
      "Kappa for G1 Sentiment is 0.12511844137273553\n"
     ]
    }
   ],
   "source": [
    "KappaG1Sen=0\n",
    "n=0\n",
    "for j in range(0,len(x)):\n",
    "    for i in range(j+1,len(x)):\n",
    "        kappa1=kappa(coders.loc[\"G1\"].loc[x[j]][\"Sentiment\"],coders.loc[\"G1\"].loc[x[i]][\"Sentiment\"])\n",
    "        KappaG1Sen=KappaG1Sen+kappa1\n",
    "        n=n+1\n",
    "    i=0\n",
    "KAPPAG1SEN=KappaG1Sen/n\n",
    "print(\"Kappa for G1 Sentiment is\",KAPPAG1SEN)"
   ]
  },
  {
   "cell_type": "code",
   "execution_count": 67,
   "metadata": {},
   "outputs": [
    {
     "data": {
      "text/plain": [
       "Index(['3662001', '3662003', '3662010', '3662011', '3662013', '3662014',\n",
       "       '3662020', '3662021', '3662023'],\n",
       "      dtype='object', name='ID')"
      ]
     },
     "execution_count": 67,
     "metadata": {},
     "output_type": "execute_result"
    }
   ],
   "source": [
    "#Get IDs for G2\n",
    "coders.loc[\"G2\"].index.get_level_values(0).unique()"
   ]
  },
  {
   "cell_type": "code",
   "execution_count": 68,
   "metadata": {},
   "outputs": [],
   "source": [
    "#Assigning indexes to x2 to be used below\n",
    "x2=coders.loc[\"G2\"].index.get_level_values(0).unique()"
   ]
  },
  {
   "cell_type": "code",
   "execution_count": 69,
   "metadata": {},
   "outputs": [
    {
     "name": "stdout",
     "output_type": "stream",
     "text": [
      "Nan Value\n",
      "Kappa for G2 Subjectivity is 0.17068775191290209\n"
     ]
    }
   ],
   "source": [
    "#Annotator 3662014&3662020 agree on every single verse regarding Subjectivity and so Cohen's Kappa returns a nan value\n",
    "#on a single occasion.I've chosen to skip verse's kappa value if kappa returns NaN.\n",
    "n=0\n",
    "KappaG2Sub=0\n",
    "for j in range(0,len(x2)):\n",
    "    for i in range(j+1,len(x2)):\n",
    "        kappa2=kappa(coders.loc[\"G2\"].loc[x2[j]][\"Subjectivity\"],coders.loc[\"G2\"].loc[x2[i]][\"Subjectivity\"])\n",
    "        if np.isnan(kappa2):\n",
    "            print(\"Nan Value\")\n",
    "        else:\n",
    "            KappaG2Sub=KappaG2Sub+kappa2\n",
    "            n=n+1\n",
    "    i=0\n",
    "KAPPAG2SUB=KappaG2Sub/n\n",
    "print(\"Kappa for G2 Subjectivity is\",KAPPAG2SUB)"
   ]
  },
  {
   "cell_type": "code",
   "execution_count": 70,
   "metadata": {},
   "outputs": [
    {
     "name": "stdout",
     "output_type": "stream",
     "text": [
      "Kappa for G2 Sentiment is 0.15627900097678726\n"
     ]
    }
   ],
   "source": [
    "KappaG2Sen=0\n",
    "n=0\n",
    "for j in range(0,len(x2)):\n",
    "    for i in range(j+1,len(x2)):\n",
    "        kappa2=kappa(coders.loc[\"G2\"].loc[x2[j]][\"Sentiment\"],coders.loc[\"G2\"].loc[x2[i]][\"Sentiment\"])\n",
    "        KappaG2Sen=KappaG2Sen+kappa2\n",
    "        n=n+1\n",
    "    i=0\n",
    "KAPPAG2SEN=KappaG2Sen/n\n",
    "print(\"Kappa for G2 Sentiment is\",KAPPAG2SEN)"
   ]
  },
  {
   "cell_type": "code",
   "execution_count": 71,
   "metadata": {
    "scrolled": true
   },
   "outputs": [
    {
     "data": {
      "text/html": [
       "<div>\n",
       "<style scoped>\n",
       "    .dataframe tbody tr th:only-of-type {\n",
       "        vertical-align: middle;\n",
       "    }\n",
       "\n",
       "    .dataframe tbody tr th {\n",
       "        vertical-align: top;\n",
       "    }\n",
       "\n",
       "    .dataframe thead th {\n",
       "        text-align: right;\n",
       "    }\n",
       "</style>\n",
       "<table border=\"1\" class=\"dataframe\">\n",
       "  <thead>\n",
       "    <tr style=\"text-align: right;\">\n",
       "      <th></th>\n",
       "      <th>Subjectivity</th>\n",
       "      <th>Sentiment</th>\n",
       "    </tr>\n",
       "  </thead>\n",
       "  <tbody>\n",
       "    <tr>\n",
       "      <th>G1</th>\n",
       "      <td>0.081462</td>\n",
       "      <td>0.125118</td>\n",
       "    </tr>\n",
       "    <tr>\n",
       "      <th>G2</th>\n",
       "      <td>0.170688</td>\n",
       "      <td>0.156279</td>\n",
       "    </tr>\n",
       "  </tbody>\n",
       "</table>\n",
       "</div>"
      ],
      "text/plain": [
       "    Subjectivity  Sentiment\n",
       "G1      0.081462   0.125118\n",
       "G2      0.170688   0.156279"
      ]
     },
     "execution_count": 71,
     "metadata": {},
     "output_type": "execute_result"
    }
   ],
   "source": [
    "Kappaframe=pd.DataFrame({\"Subjectivity\":[KAPPAG1SUB,KAPPAG2SUB],\"Sentiment\":[KAPPAG1SEN,KAPPAG2SEN]},index=[\"G1\",\"G2\"])\n",
    "Kappaframe"
   ]
  },
  {
   "cell_type": "markdown",
   "metadata": {},
   "source": [
    "Cohen suggested the Kappa result be interpreted as follows: values ≤ 0 as indicating no agreement and 0.01–0.20 as none to slight, 0.21–0.40 as fair, 0.41– 0.60 as moderate, 0.61–0.80 as substantial, and 0.81–1.00 as almost perfect agreement.\n",
    "\n",
    "Based on the above statement we see that all 4 values show slight agreement with G2's Subjectivity & Sentiment getting the highest Cohen's Kappa scores,meaning that the G2 annotators(predicting the sentiment that the author wanted to provoke) tend to agree more when annotating what sentiment Homer wanted to provoke.(We expected G2 to have a higher Kappa Score because we have noticed that the respective annotations were similar.)\n",
    "\n",
    "Moreover,what we see for G1 Subjectivity is that the agreement could have been resulted due to pure luck.(Lowest Kappa Score).\n",
    "\n",
    "Sentiment-wise we see that although G1's annotators agree more for each verse G2 has again the higher Kappa Score meaning G2's annotators agree on the Sentiment that the author wanted to provoke more on average)."
   ]
  },
  {
   "cell_type": "code",
   "execution_count": null,
   "metadata": {},
   "outputs": [],
   "source": []
  }
 ],
 "metadata": {
  "kernelspec": {
   "display_name": "Python 3 (ipykernel)",
   "language": "python",
   "name": "python3"
  },
  "language_info": {
   "codemirror_mode": {
    "name": "ipython",
    "version": 3
   },
   "file_extension": ".py",
   "mimetype": "text/x-python",
   "name": "python",
   "nbconvert_exporter": "python",
   "pygments_lexer": "ipython3",
   "version": "3.8.8"
  }
 },
 "nbformat": 4,
 "nbformat_minor": 2
}